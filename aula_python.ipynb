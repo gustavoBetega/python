{
  "nbformat": 4,
  "nbformat_minor": 0,
  "metadata": {
    "colab": {
      "provenance": [],
      "authorship_tag": "ABX9TyMiEP+FYn1O+7skXadQQ0UM",
      "include_colab_link": true
    },
    "kernelspec": {
      "name": "python3",
      "display_name": "Python 3"
    },
    "language_info": {
      "name": "python"
    }
  },
  "cells": [
    {
      "cell_type": "markdown",
      "metadata": {
        "id": "view-in-github",
        "colab_type": "text"
      },
      "source": [
        "<a href=\"https://colab.research.google.com/github/gustavoBetega/python/blob/main/aula_python.ipynb\" target=\"_parent\"><img src=\"https://colab.research.google.com/assets/colab-badge.svg\" alt=\"Open In Colab\"/></a>"
      ]
    },
    {
      "cell_type": "markdown",
      "source": [
        "**#aula 1**  🚘 👽 ⏰"
      ],
      "metadata": {
        "id": "hdyDX7fFnw-h"
      }
    },
    {
      "cell_type": "code",
      "source": [
        "ano = \"IX\"\n",
        "print(f\"{ano} competição de programação da Start\")"
      ],
      "metadata": {
        "colab": {
          "base_uri": "https://localhost:8080/"
        },
        "id": "uUBh0fUvpc6A",
        "outputId": "446e3867-ddf3-452c-c5c0-29cc2bef3b8d"
      },
      "execution_count": null,
      "outputs": [
        {
          "output_type": "stream",
          "name": "stdout",
          "text": [
            "IX competição de programação da Start\n"
          ]
        }
      ]
    },
    {
      "cell_type": "markdown",
      "source": [
        "#**aula** 2  🎱 🤠 🐴"
      ],
      "metadata": {
        "id": "S_0vXphppMbg"
      }
    },
    {
      "cell_type": "code",
      "source": [
        "livro_ficcao = 8\n",
        "livro_n_ficcao = 10\n",
        "livro_infantil = 6\n",
        "pontos_ana = 2 * livro_ficcao + 5 * livro_infantil\n",
        "pontos_rodrigo = livro_ficcao + livro_n_ficcao + livro_infantil\n",
        "pontos_totais = pontos_rodrigo + pontos_ana\n",
        "print(f\"Os pontos totais do Rodrigo são {pontos_rodrigo}\")\n",
        "print(f\"os totais do rodrigo e da ana são{pontos_ana}\")\n",
        "print(f\"os pontos totais de rodrigo e ana são {pontos_totais}\")"
      ],
      "metadata": {
        "colab": {
          "base_uri": "https://localhost:8080/"
        },
        "id": "t0Qy4ToNqE1U",
        "outputId": "ce3b21c6-bf96-49b8-8671-e3c0529f248a"
      },
      "execution_count": null,
      "outputs": [
        {
          "output_type": "stream",
          "name": "stdout",
          "text": [
            "Os pontos totais do Rodrigo são 24\n",
            "os totais do rodrigo e da ana são46\n",
            "os pontos totais de rodrigo e ana são 70\n"
          ]
        }
      ]
    },
    {
      "cell_type": "markdown",
      "source": [
        "#**aula** 3  tabuada ⏰ ⚫  ✅"
      ],
      "metadata": {
        "id": "vq7Rz__ysPPf"
      }
    },
    {
      "cell_type": "code",
      "source": [
        "def tabuada(numero):\n",
        "    for contador in range(1, 11):  # Gera números de 1 a 10\n",
        "        print(f\"{numero} x {contador} = {numero * contador}\")\n",
        "numero = int(input(\"Digite um número para ver sua tabuada: \"))\n",
        "tabuada(numero)\n"
      ],
      "metadata": {
        "id": "yLI4PNeWsaft",
        "outputId": "f4fdfa1d-658e-490e-b0b9-1107e455b912",
        "colab": {
          "base_uri": "https://localhost:8080/"
        }
      },
      "execution_count": null,
      "outputs": [
        {
          "output_type": "stream",
          "name": "stdout",
          "text": [
            "Digite um número para ver sua tabuada: 6\n",
            "6 x 1 = 6\n",
            "6 x 2 = 12\n",
            "6 x 3 = 18\n",
            "6 x 4 = 24\n",
            "6 x 5 = 30\n",
            "6 x 6 = 36\n",
            "6 x 7 = 42\n",
            "6 x 8 = 48\n",
            "6 x 9 = 54\n",
            "6 x 10 = 60\n"
          ]
        }
      ]
    },
    {
      "cell_type": "markdown",
      "source": [
        "#**aula**4 imc: ⏰ * ◀"
      ],
      "metadata": {
        "id": "qbnVL-0nkGbz"
      }
    },
    {
      "cell_type": "code",
      "source": [],
      "metadata": {
        "id": "VxUzWyOskcJ7"
      },
      "execution_count": null,
      "outputs": []
    },
    {
      "cell_type": "markdown",
      "source": [
        "#**aula** 5"
      ],
      "metadata": {
        "id": "TJgCUHEjksvg"
      }
    },
    {
      "cell_type": "markdown",
      "source": [],
      "metadata": {
        "id": "lZsWi42mmGcd"
      }
    },
    {
      "cell_type": "code",
      "source": [
        "print(\"olá, sou seu assistente virtual, em que posso ajudar ?\")\n",
        "nome = input(\"digite seu nome:\")\n",
        "resposta = input(f\"olá {nome},qual tema voce deseja comversar?pyth, javascriptou matematica\")\n",
        "\n"
      ],
      "metadata": {
        "id": "1pj-c63QkxTH",
        "outputId": "4f4ee646-685b-413d-c291-b0af837a0019",
        "colab": {
          "base_uri": "https://localhost:8080/"
        }
      },
      "execution_count": null,
      "outputs": [
        {
          "output_type": "stream",
          "name": "stdout",
          "text": [
            "olá, sou seu assistente virtual, em que posso ajudar ?\n"
          ]
        }
      ]
    }
  ]
}