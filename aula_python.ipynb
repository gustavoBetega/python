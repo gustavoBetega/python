{
  "nbformat": 4,
  "nbformat_minor": 0,
  "metadata": {
    "colab": {
      "provenance": [],
      "authorship_tag": "ABX9TyMNJd1yEGrrY4oXk9VPnovg",
      "include_colab_link": true
    },
    "kernelspec": {
      "name": "python3",
      "display_name": "Python 3"
    },
    "language_info": {
      "name": "python"
    }
  },
  "cells": [
    {
      "cell_type": "markdown",
      "metadata": {
        "id": "view-in-github",
        "colab_type": "text"
      },
      "source": [
        "<a href=\"https://colab.research.google.com/github/gustavoBetega/python/blob/main/aula_python.ipynb\" target=\"_parent\"><img src=\"https://colab.research.google.com/assets/colab-badge.svg\" alt=\"Open In Colab\"/></a>"
      ]
    },
    {
      "cell_type": "markdown",
      "source": [
        "**#aula 1**  🚘 👽 ⏰"
      ],
      "metadata": {
        "id": "hdyDX7fFnw-h"
      }
    },
    {
      "cell_type": "code",
      "source": [
        "ano = \"IX\"\n",
        "print(f\"{ano} competição de programação da Start\")"
      ],
      "metadata": {
        "colab": {
          "base_uri": "https://localhost:8080/"
        },
        "id": "uUBh0fUvpc6A",
        "outputId": "446e3867-ddf3-452c-c5c0-29cc2bef3b8d"
      },
      "execution_count": null,
      "outputs": [
        {
          "output_type": "stream",
          "name": "stdout",
          "text": [
            "IX competição de programação da Start\n"
          ]
        }
      ]
    },
    {
      "cell_type": "markdown",
      "source": [
        "#**aula** 2  🎱 🤠 🐴"
      ],
      "metadata": {
        "id": "S_0vXphppMbg"
      }
    },
    {
      "cell_type": "code",
      "source": [
        "livro_ficcao = 8\n",
        "livro_n_ficcao = 10\n",
        "livro_infantil = 6\n",
        "pontos_ana = 2 * livro_ficcao + 5 * livro_infantil\n",
        "pontos_rodrigo = livro_ficcao + livro_n_ficcao + livro_infantil\n",
        "pontos_totais = pontos_rodrigo + pontos_ana\n",
        "print(f\"Os pontos totais do Rodrigo são {pontos_rodrigo}\")\n",
        "print(f\"os totais do rodrigo e da ana são{pontos_ana}\")\n",
        "print(f\"os pontos totais de rodrigo e ana são {pontos_totais}\")"
      ],
      "metadata": {
        "id": "t0Qy4ToNqE1U",
        "outputId": "ce3b21c6-bf96-49b8-8671-e3c0529f248a",
        "colab": {
          "base_uri": "https://localhost:8080/"
        }
      },
      "execution_count": 4,
      "outputs": [
        {
          "output_type": "stream",
          "name": "stdout",
          "text": [
            "Os pontos totais do Rodrigo são 24\n",
            "os totais do rodrigo e da ana são46\n",
            "os pontos totais de rodrigo e ana são 70\n"
          ]
        }
      ]
    }
  ]
}